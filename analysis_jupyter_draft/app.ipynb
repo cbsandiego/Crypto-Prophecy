{
 "cells": [
  {
   "cell_type": "code",
   "execution_count": 17,
   "id": "f56e4f42-bac0-4cdf-b25b-20ac56732079",
   "metadata": {},
   "outputs": [],
   "source": [
    "# Import required libraries and dependencies\n",
    "#import streamlit as st\n",
    "import requests\n",
    "import pandas as pd\n",
    "import numpy as np\n",
    "import os\n",
    "import hvplot.pandas\n",
    "from dotenv import load_dotenv"
   ]
  },
  {
   "cell_type": "code",
   "execution_count": 18,
   "id": "51d8f924-5711-4b33-84fb-dd5f33cf9a7b",
   "metadata": {},
   "outputs": [
    {
     "data": {
      "text/plain": [
       "True"
      ]
     },
     "execution_count": 18,
     "metadata": {},
     "output_type": "execute_result"
    }
   ],
   "source": [
    "# Load environmen variable\n",
    "load_dotenv()"
   ]
  },
  {
   "cell_type": "code",
   "execution_count": 19,
   "id": "580f822d-cd86-46d5-b7af-c86c788d35cf",
   "metadata": {},
   "outputs": [],
   "source": [
    "# Define the function that pulls historical data from Polygon.io API\n",
    "def get_crypto_prices(symbol, start, end):\n",
    "    api_key = os.getenv(\"POLYGON_API_KEY\")\n",
    "    api_url = f'https://api.polygon.io/v2/aggs/ticker/X:{symbol}USD/range/1/day/{start}/{end}?unadjusted=true&sort=asc&apiKey={api_key}'\n",
    "    raw = requests.get(api_url).json()\n",
    "    df = pd.DataFrame(raw['results']).set_index('t')[['o', 'h', 'l', 'c', 'v']]\n",
    "    df = df.rename(columns = {'o':'open', 'h':'high', 'l':'low', 'c':'close', 'v':'volume'})\n",
    "    df.index = pd.to_datetime(df.index, unit = 'ms')\n",
    "    return df"
   ]
  },
  {
   "cell_type": "code",
   "execution_count": 20,
   "id": "436a30d2-fd95-491c-868c-bd2319dc8006",
   "metadata": {},
   "outputs": [
    {
     "name": "stdout",
     "output_type": "stream",
     "text": [
      "                open          high       low     close        volume\n",
      "t                                                                   \n",
      "2019-11-16   8495.80   8577.000000   8423.00   8481.00  35302.986926\n",
      "2019-11-17   8481.00   8699.500000   8363.50   8500.01  29416.629650\n",
      "2019-11-18   8501.00   8537.000000   8010.70   8168.84  61719.424259\n",
      "2019-11-19   8168.84   8245.530525   7980.07   8123.36  51260.635785\n",
      "2019-11-20   8130.02   8257.800000   8027.28   8082.96  42925.712797\n",
      "...              ...           ...       ...       ...           ...\n",
      "2021-11-10  66928.42  69000.000000  62700.10  64912.20  41038.774515\n",
      "2021-11-11  64919.18  65625.440000  64079.00  64807.74  16314.322442\n",
      "2021-11-12  64807.73  65497.530000  62255.00  64147.90  24450.462201\n",
      "2021-11-13  64144.42  64990.000000  63394.17  64400.01  10058.012619\n",
      "2021-11-14  64394.50  65525.000000  63564.00  65468.40  13285.308933\n",
      "\n",
      "[730 rows x 5 columns]\n"
     ]
    }
   ],
   "source": [
    "btc = get_crypto_prices('BTC', '2019-11-14', '2021-11-14')\n",
    "print(btc)"
   ]
  },
  {
   "cell_type": "code",
   "execution_count": 21,
   "id": "023464a7-b106-4cd8-8530-dea2a822d79d",
   "metadata": {},
   "outputs": [
    {
     "data": {
      "text/plain": [
       "t\n",
       "2019-11-17    0.224148\n",
       "2019-11-18   -3.896113\n",
       "2019-11-19   -0.556750\n",
       "2019-11-20   -0.497331\n",
       "2019-11-21   -5.702366\n",
       "Name: close, dtype: float64"
      ]
     },
     "execution_count": 21,
     "metadata": {},
     "output_type": "execute_result"
    }
   ],
   "source": [
    "# Calculate daily returns\n",
    "daily_returns = btc['close'].pct_change().dropna()\n",
    "# Convert to percentage\n",
    "daily_returns_pct = daily_returns * 100\n",
    "daily_returns_pct.head()"
   ]
  },
  {
   "cell_type": "code",
   "execution_count": 22,
   "id": "bb8f9e7d-4406-4e05-a4c1-a0bebab26ddf",
   "metadata": {},
   "outputs": [
    {
     "data": {},
     "metadata": {},
     "output_type": "display_data"
    },
    {
     "data": {
      "application/vnd.holoviews_exec.v0+json": "",
      "text/html": [
       "<div id='1414'>\n",
       "\n",
       "\n",
       "\n",
       "\n",
       "\n",
       "  <div class=\"bk-root\" id=\"94f8bd03-27c5-4dab-ab1b-79df08f9ddf0\" data-root-id=\"1414\"></div>\n",
       "</div>\n",
       "<script type=\"application/javascript\">(function(root) {\n",
       "  function embed_document(root) {\n",
       "    var docs_json = {\"2d515cb3-9a53-4693-ad4b-297ec6825bf5\":{\"defs\":[{\"extends\":null,\"module\":null,\"name\":\"ReactiveHTML1\",\"overrides\":[],\"properties\":[]},{\"extends\":null,\"module\":null,\"name\":\"FlexBox1\",\"overrides\":[],\"properties\":[{\"default\":\"flex-start\",\"kind\":null,\"name\":\"align_content\"},{\"default\":\"flex-start\",\"kind\":null,\"name\":\"align_items\"},{\"default\":\"row\",\"kind\":null,\"name\":\"flex_direction\"},{\"default\":\"wrap\",\"kind\":null,\"name\":\"flex_wrap\"},{\"default\":\"flex-start\",\"kind\":null,\"name\":\"justify_content\"}]},{\"extends\":null,\"module\":null,\"name\":\"TemplateActions1\",\"overrides\":[],\"properties\":[{\"default\":0,\"kind\":null,\"name\":\"open_modal\"},{\"default\":0,\"kind\":null,\"name\":\"close_modal\"}]},{\"extends\":null,\"module\":null,\"name\":\"MaterialTemplateActions1\",\"overrides\":[],\"properties\":[{\"default\":0,\"kind\":null,\"name\":\"open_modal\"},{\"default\":0,\"kind\":null,\"name\":\"close_modal\"}]}],\"roots\":{\"references\":[{\"attributes\":{\"axis_label\":\"Daily Returns (%)\",\"coordinates\":null,\"formatter\":{\"id\":\"1462\"},\"group\":null,\"major_label_policy\":{\"id\":\"1463\"},\"ticker\":{\"id\":\"1433\"}},\"id\":\"1432\",\"type\":\"LinearAxis\"},{\"attributes\":{},\"id\":\"1437\",\"type\":\"PanTool\"},{\"attributes\":{\"data\":{\"close\":{\"__ndarray__\":\"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\",\"dtype\":\"float64\",\"order\":\"little\",\"shape\":[729]},\"t\":{\"__ndarray__\":\"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\",\"dtype\":\"float64\",\"order\":\"little\",\"shape\":[729]}},\"selected\":{\"id\":\"1450\"},\"selection_policy\":{\"id\":\"1471\"}},\"id\":\"1449\",\"type\":\"ColumnDataSource\"},{\"attributes\":{\"coordinates\":null,\"data_source\":{\"id\":\"1449\"},\"glyph\":{\"id\":\"1452\"},\"group\":null,\"hover_glyph\":null,\"muted_glyph\":{\"id\":\"1454\"},\"nonselection_glyph\":{\"id\":\"1453\"},\"selection_glyph\":{\"id\":\"1457\"},\"view\":{\"id\":\"1456\"}},\"id\":\"1455\",\"type\":\"GlyphRenderer\"},{\"attributes\":{},\"id\":\"1438\",\"type\":\"WheelZoomTool\"},{\"attributes\":{},\"id\":\"1463\",\"type\":\"AllLabels\"},{\"attributes\":{\"overlay\":{\"id\":\"1441\"}},\"id\":\"1439\",\"type\":\"BoxZoomTool\"},{\"attributes\":{},\"id\":\"1471\",\"type\":\"UnionRenderers\"},{\"attributes\":{\"mantissas\":[1,2,5],\"max_interval\":500.0,\"num_minor_ticks\":0},\"id\":\"1474\",\"type\":\"AdaptiveTicker\"},{\"attributes\":{\"source\":{\"id\":\"1449\"}},\"id\":\"1456\",\"type\":\"CDSView\"},{\"attributes\":{\"below\":[{\"id\":\"1428\"}],\"center\":[{\"id\":\"1431\"},{\"id\":\"1435\"}],\"height\":300,\"left\":[{\"id\":\"1432\"}],\"margin\":[5,5,5,5],\"min_border_bottom\":10,\"min_border_left\":10,\"min_border_right\":10,\"min_border_top\":10,\"renderers\":[{\"id\":\"1455\"}],\"sizing_mode\":\"fixed\",\"title\":{\"id\":\"1420\"},\"toolbar\":{\"id\":\"1442\"},\"width\":700,\"x_range\":{\"id\":\"1416\"},\"x_scale\":{\"id\":\"1424\"},\"y_range\":{\"id\":\"1417\"},\"y_scale\":{\"id\":\"1426\"}},\"id\":\"1419\",\"subtype\":\"Figure\",\"type\":\"Plot\"},{\"attributes\":{\"num_minor_ticks\":5,\"tickers\":[{\"id\":\"1474\"},{\"id\":\"1475\"},{\"id\":\"1476\"},{\"id\":\"1477\"},{\"id\":\"1478\"},{\"id\":\"1479\"},{\"id\":\"1480\"},{\"id\":\"1481\"},{\"id\":\"1482\"},{\"id\":\"1483\"},{\"id\":\"1484\"},{\"id\":\"1485\"}]},\"id\":\"1429\",\"type\":\"DatetimeTicker\"},{\"attributes\":{\"end\":0.2531045230395662,\"reset_end\":0.2531045230395662,\"reset_start\":-0.4464178156773587,\"start\":-0.4464178156773587,\"tags\":[[[\"close\",\"close\",null]]]},\"id\":\"1417\",\"type\":\"Range1d\"},{\"attributes\":{},\"id\":\"1440\",\"type\":\"ResetTool\"},{\"attributes\":{\"line_alpha\":0.2,\"line_color\":\"#30a2da\",\"line_width\":2,\"x\":{\"field\":\"t\"},\"y\":{\"field\":\"close\"}},\"id\":\"1454\",\"type\":\"Line\"},{\"attributes\":{\"days\":[1,4,7,10,13,16,19,22,25,28]},\"id\":\"1478\",\"type\":\"DaysTicker\"},{\"attributes\":{},\"id\":\"1460\",\"type\":\"AllLabels\"},{\"attributes\":{\"children\":[{\"id\":\"1415\"},{\"id\":\"1419\"},{\"id\":\"1508\"}],\"margin\":[0,0,0,0],\"name\":\"Row01980\",\"tags\":[\"embedded\"]},\"id\":\"1414\",\"type\":\"Row\"},{\"attributes\":{},\"id\":\"1424\",\"type\":\"LinearScale\"},{\"attributes\":{},\"id\":\"1450\",\"type\":\"Selection\"},{\"attributes\":{\"bottom_units\":\"screen\",\"coordinates\":null,\"fill_alpha\":0.5,\"fill_color\":\"lightgrey\",\"group\":null,\"left_units\":\"screen\",\"level\":\"overlay\",\"line_alpha\":1.0,\"line_color\":\"black\",\"line_dash\":[4,4],\"line_width\":2,\"right_units\":\"screen\",\"syncable\":false,\"top_units\":\"screen\"},\"id\":\"1441\",\"type\":\"BoxAnnotation\"},{\"attributes\":{\"days\":[1,8,15,22]},\"id\":\"1479\",\"type\":\"DaysTicker\"},{\"attributes\":{\"days\":[1,2,3,4,5,6,7,8,9,10,11,12,13,14,15,16,17,18,19,20,21,22,23,24,25,26,27,28,29,30,31]},\"id\":\"1477\",\"type\":\"DaysTicker\"},{\"attributes\":{\"days\":[1,15]},\"id\":\"1480\",\"type\":\"DaysTicker\"},{\"attributes\":{},\"id\":\"1433\",\"type\":\"BasicTicker\"},{\"attributes\":{\"axis\":{\"id\":\"1428\"},\"coordinates\":null,\"grid_line_color\":null,\"group\":null,\"ticker\":null},\"id\":\"1431\",\"type\":\"Grid\"},{\"attributes\":{\"base\":24,\"mantissas\":[1,2,4,6,8,12],\"max_interval\":43200000.0,\"min_interval\":3600000.0,\"num_minor_ticks\":0},\"id\":\"1476\",\"type\":\"AdaptiveTicker\"},{\"attributes\":{\"months\":[0,1,2,3,4,5,6,7,8,9,10,11]},\"id\":\"1481\",\"type\":\"MonthsTicker\"},{\"attributes\":{},\"id\":\"1459\",\"type\":\"DatetimeTickFormatter\"},{\"attributes\":{\"margin\":[5,5,5,5],\"name\":\"HSpacer01984\",\"sizing_mode\":\"stretch_width\"},\"id\":\"1415\",\"type\":\"Spacer\"},{\"attributes\":{\"coordinates\":null,\"group\":null,\"text\":\"Historical Daily Returns\",\"text_color\":\"black\",\"text_font_size\":\"12pt\"},\"id\":\"1420\",\"type\":\"Title\"},{\"attributes\":{\"months\":[0,2,4,6,8,10]},\"id\":\"1482\",\"type\":\"MonthsTicker\"},{\"attributes\":{\"margin\":[5,5,5,5],\"name\":\"HSpacer01985\",\"sizing_mode\":\"stretch_width\"},\"id\":\"1508\",\"type\":\"Spacer\"},{\"attributes\":{\"axis_label\":\"Date\",\"coordinates\":null,\"formatter\":{\"id\":\"1459\"},\"group\":null,\"major_label_policy\":{\"id\":\"1460\"},\"ticker\":{\"id\":\"1429\"}},\"id\":\"1428\",\"type\":\"DatetimeAxis\"},{\"attributes\":{\"line_color\":\"#30a2da\",\"line_width\":2,\"x\":{\"field\":\"t\"},\"y\":{\"field\":\"close\"}},\"id\":\"1457\",\"type\":\"Line\"},{\"attributes\":{\"months\":[0,4,8]},\"id\":\"1483\",\"type\":\"MonthsTicker\"},{\"attributes\":{\"axis\":{\"id\":\"1432\"},\"coordinates\":null,\"dimension\":1,\"grid_line_color\":null,\"group\":null,\"ticker\":null},\"id\":\"1435\",\"type\":\"Grid\"},{\"attributes\":{},\"id\":\"1426\",\"type\":\"LinearScale\"},{\"attributes\":{\"base\":60,\"mantissas\":[1,2,5,10,15,20,30],\"max_interval\":1800000.0,\"min_interval\":1000.0,\"num_minor_ticks\":0},\"id\":\"1475\",\"type\":\"AdaptiveTicker\"},{\"attributes\":{\"months\":[0,6]},\"id\":\"1484\",\"type\":\"MonthsTicker\"},{\"attributes\":{\"line_color\":\"#30a2da\",\"line_width\":2,\"x\":{\"field\":\"t\"},\"y\":{\"field\":\"close\"}},\"id\":\"1452\",\"type\":\"Line\"},{\"attributes\":{\"line_alpha\":0.1,\"line_color\":\"#30a2da\",\"line_width\":2,\"x\":{\"field\":\"t\"},\"y\":{\"field\":\"close\"}},\"id\":\"1453\",\"type\":\"Line\"},{\"attributes\":{},\"id\":\"1462\",\"type\":\"BasicTickFormatter\"},{\"attributes\":{},\"id\":\"1485\",\"type\":\"YearsTicker\"},{\"attributes\":{\"end\":1636848000000.0,\"reset_end\":1636848000000.0,\"reset_start\":1573948800000.0,\"start\":1573948800000.0,\"tags\":[[[\"t\",\"t\",null]]]},\"id\":\"1416\",\"type\":\"Range1d\"},{\"attributes\":{\"tools\":[{\"id\":\"1418\"},{\"id\":\"1436\"},{\"id\":\"1437\"},{\"id\":\"1438\"},{\"id\":\"1439\"},{\"id\":\"1440\"}]},\"id\":\"1442\",\"type\":\"Toolbar\"},{\"attributes\":{\"callback\":null,\"formatters\":{\"@{t}\":\"datetime\"},\"renderers\":[{\"id\":\"1455\"}],\"tags\":[\"hv_created\"],\"tooltips\":[[\"t\",\"@{t}{%F %T}\"],[\"close\",\"@{close}\"]]},\"id\":\"1418\",\"type\":\"HoverTool\"},{\"attributes\":{},\"id\":\"1436\",\"type\":\"SaveTool\"}],\"root_ids\":[\"1414\"]},\"title\":\"Bokeh Application\",\"version\":\"2.4.1\"}};\n",
       "    var render_items = [{\"docid\":\"2d515cb3-9a53-4693-ad4b-297ec6825bf5\",\"root_ids\":[\"1414\"],\"roots\":{\"1414\":\"94f8bd03-27c5-4dab-ab1b-79df08f9ddf0\"}}];\n",
       "    root.Bokeh.embed.embed_items_notebook(docs_json, render_items);\n",
       "  }\n",
       "  if (root.Bokeh !== undefined && root.Bokeh.Panel !== undefined) {\n",
       "    embed_document(root);\n",
       "  } else {\n",
       "    var attempts = 0;\n",
       "    var timer = setInterval(function(root) {\n",
       "      if (root.Bokeh !== undefined && root.Bokeh.Panel !== undefined) {\n",
       "        clearInterval(timer);\n",
       "        embed_document(root);\n",
       "      } else if (document.readyState == \"complete\") {\n",
       "        attempts++;\n",
       "        if (attempts > 200) {\n",
       "          clearInterval(timer);\n",
       "          console.log(\"Bokeh: ERROR: Unable to run BokehJS code because BokehJS library is missing\");\n",
       "        }\n",
       "      }\n",
       "    }, 25, root)\n",
       "  }\n",
       "})(window);</script>"
      ],
      "text/plain": [
       ":Curve   [t]   (close)"
      ]
     },
     "execution_count": 22,
     "metadata": {
      "application/vnd.holoviews_exec.v0+json": {
       "id": "1414"
      }
     },
     "output_type": "execute_result"
    }
   ],
   "source": [
    "# Plot the daily returns\n",
    "daily_returns.hvplot(\n",
    "    title='Historical Daily Returns',\n",
    "    xlabel='Date',\n",
    "    ylabel='Daily Returns (%)'\n",
    ")\n",
    "    "
   ]
  },
  {
   "cell_type": "code",
   "execution_count": 23,
   "id": "7523b1b4-2a23-4198-b275-d4748f6bdd73",
   "metadata": {},
   "outputs": [],
   "source": [
    "# Calculate cumulative returns\n",
    "cumulative_returns = (1 + daily_returns).cumprod()\n",
    "# Convert to a percentage\n",
    "cumulative_returns_pct = cumulative_returns * 100"
   ]
  },
  {
   "cell_type": "code",
   "execution_count": 24,
   "id": "cd55df62-0acb-4e3f-8927-e062d5718cab",
   "metadata": {},
   "outputs": [
    {
     "data": {},
     "metadata": {},
     "output_type": "display_data"
    },
    {
     "data": {
      "application/vnd.holoviews_exec.v0+json": "",
      "text/html": [
       "<div id='1620'>\n",
       "\n",
       "\n",
       "\n",
       "\n",
       "\n",
       "  <div class=\"bk-root\" id=\"af3681a0-ae48-443c-9e85-8b629a88d19f\" data-root-id=\"1620\"></div>\n",
       "</div>\n",
       "<script type=\"application/javascript\">(function(root) {\n",
       "  function embed_document(root) {\n",
       "    var docs_json = {\"92a7d7c7-6fc0-4127-94b8-96053c01d960\":{\"defs\":[{\"extends\":null,\"module\":null,\"name\":\"ReactiveHTML1\",\"overrides\":[],\"properties\":[]},{\"extends\":null,\"module\":null,\"name\":\"FlexBox1\",\"overrides\":[],\"properties\":[{\"default\":\"flex-start\",\"kind\":null,\"name\":\"align_content\"},{\"default\":\"flex-start\",\"kind\":null,\"name\":\"align_items\"},{\"default\":\"row\",\"kind\":null,\"name\":\"flex_direction\"},{\"default\":\"wrap\",\"kind\":null,\"name\":\"flex_wrap\"},{\"default\":\"flex-start\",\"kind\":null,\"name\":\"justify_content\"}]},{\"extends\":null,\"module\":null,\"name\":\"TemplateActions1\",\"overrides\":[],\"properties\":[{\"default\":0,\"kind\":null,\"name\":\"open_modal\"},{\"default\":0,\"kind\":null,\"name\":\"close_modal\"}]},{\"extends\":null,\"module\":null,\"name\":\"MaterialTemplateActions1\",\"overrides\":[],\"properties\":[{\"default\":0,\"kind\":null,\"name\":\"open_modal\"},{\"default\":0,\"kind\":null,\"name\":\"close_modal\"}]}],\"roots\":{\"references\":[{\"attributes\":{\"coordinates\":null,\"data_source\":{\"id\":\"1655\"},\"glyph\":{\"id\":\"1658\"},\"group\":null,\"hover_glyph\":null,\"muted_glyph\":{\"id\":\"1660\"},\"nonselection_glyph\":{\"id\":\"1659\"},\"selection_glyph\":{\"id\":\"1663\"},\"view\":{\"id\":\"1662\"}},\"id\":\"1661\",\"type\":\"GlyphRenderer\"},{\"attributes\":{\"line_color\":\"#30a2da\",\"line_width\":2,\"x\":{\"field\":\"t\"},\"y\":{\"field\":\"close\"}},\"id\":\"1663\",\"type\":\"Line\"},{\"attributes\":{\"base\":24,\"mantissas\":[1,2,4,6,8,12],\"max_interval\":43200000.0,\"min_interval\":3600000.0,\"num_minor_ticks\":0},\"id\":\"1682\",\"type\":\"AdaptiveTicker\"},{\"attributes\":{\"line_alpha\":0.1,\"line_color\":\"#30a2da\",\"line_width\":2,\"x\":{\"field\":\"t\"},\"y\":{\"field\":\"close\"}},\"id\":\"1659\",\"type\":\"Line\"},{\"attributes\":{},\"id\":\"1666\",\"type\":\"AllLabels\"},{\"attributes\":{\"source\":{\"id\":\"1655\"}},\"id\":\"1662\",\"type\":\"CDSView\"},{\"attributes\":{\"days\":[1,15]},\"id\":\"1686\",\"type\":\"DaysTicker\"},{\"attributes\":{},\"id\":\"1642\",\"type\":\"SaveTool\"},{\"attributes\":{},\"id\":\"1665\",\"type\":\"DatetimeTickFormatter\"},{\"attributes\":{},\"id\":\"1691\",\"type\":\"YearsTicker\"},{\"attributes\":{\"callback\":null,\"formatters\":{\"@{t}\":\"datetime\"},\"renderers\":[{\"id\":\"1661\"}],\"tags\":[\"hv_created\"],\"tooltips\":[[\"t\",\"@{t}{%F %T}\"],[\"close\",\"@{close}\"]]},\"id\":\"1624\",\"type\":\"HoverTool\"},{\"attributes\":{\"days\":[1,2,3,4,5,6,7,8,9,10,11,12,13,14,15,16,17,18,19,20,21,22,23,24,25,26,27,28,29,30,31]},\"id\":\"1683\",\"type\":\"DaysTicker\"},{\"attributes\":{},\"id\":\"1630\",\"type\":\"LinearScale\"},{\"attributes\":{\"data\":{\"close\":{\"__ndarray__\":\"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\",\"dtype\":\"float64\",\"order\":\"little\",\"shape\":[729]},\"t\":{\"__ndarray__\":\"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\",\"dtype\":\"float64\",\"order\":\"little\",\"shape\":[729]}},\"selected\":{\"id\":\"1656\"},\"selection_policy\":{\"id\":\"1677\"}},\"id\":\"1655\",\"type\":\"ColumnDataSource\"},{\"attributes\":{},\"id\":\"1643\",\"type\":\"PanTool\"},{\"attributes\":{\"coordinates\":null,\"group\":null,\"text\":\"Cumulative Returns\",\"text_color\":\"black\",\"text_font_size\":\"12pt\"},\"id\":\"1626\",\"type\":\"Title\"},{\"attributes\":{\"below\":[{\"id\":\"1634\"}],\"center\":[{\"id\":\"1637\"},{\"id\":\"1641\"}],\"height\":300,\"left\":[{\"id\":\"1638\"}],\"margin\":[5,5,5,5],\"min_border_bottom\":10,\"min_border_left\":10,\"min_border_right\":10,\"min_border_top\":10,\"renderers\":[{\"id\":\"1661\"}],\"sizing_mode\":\"fixed\",\"title\":{\"id\":\"1626\"},\"toolbar\":{\"id\":\"1648\"},\"width\":700,\"x_range\":{\"id\":\"1622\"},\"x_scale\":{\"id\":\"1630\"},\"y_range\":{\"id\":\"1623\"},\"y_scale\":{\"id\":\"1632\"}},\"id\":\"1625\",\"subtype\":\"Figure\",\"type\":\"Plot\"},{\"attributes\":{},\"id\":\"1644\",\"type\":\"WheelZoomTool\"},{\"attributes\":{\"tools\":[{\"id\":\"1624\"},{\"id\":\"1642\"},{\"id\":\"1643\"},{\"id\":\"1644\"},{\"id\":\"1645\"},{\"id\":\"1646\"}]},\"id\":\"1648\",\"type\":\"Toolbar\"},{\"attributes\":{\"months\":[0,6]},\"id\":\"1690\",\"type\":\"MonthsTicker\"},{\"attributes\":{},\"id\":\"1632\",\"type\":\"LinearScale\"},{\"attributes\":{\"overlay\":{\"id\":\"1647\"}},\"id\":\"1645\",\"type\":\"BoxZoomTool\"},{\"attributes\":{},\"id\":\"1639\",\"type\":\"BasicTicker\"},{\"attributes\":{\"days\":[1,4,7,10,13,16,19,22,25,28]},\"id\":\"1684\",\"type\":\"DaysTicker\"},{\"attributes\":{\"days\":[1,8,15,22]},\"id\":\"1685\",\"type\":\"DaysTicker\"},{\"attributes\":{\"months\":[0,1,2,3,4,5,6,7,8,9,10,11]},\"id\":\"1687\",\"type\":\"MonthsTicker\"},{\"attributes\":{},\"id\":\"1677\",\"type\":\"UnionRenderers\"},{\"attributes\":{\"end\":870.4301615375533,\"reset_end\":870.4301615375533,\"reset_start\":-16.653248437684276,\"start\":-16.653248437684276,\"tags\":[[[\"close\",\"close\",null]]]},\"id\":\"1623\",\"type\":\"Range1d\"},{\"attributes\":{},\"id\":\"1656\",\"type\":\"Selection\"},{\"attributes\":{},\"id\":\"1646\",\"type\":\"ResetTool\"},{\"attributes\":{\"end\":1636848000000.0,\"reset_end\":1636848000000.0,\"reset_start\":1573948800000.0,\"start\":1573948800000.0,\"tags\":[[[\"t\",\"t\",null]]]},\"id\":\"1622\",\"type\":\"Range1d\"},{\"attributes\":{\"line_color\":\"#30a2da\",\"line_width\":2,\"x\":{\"field\":\"t\"},\"y\":{\"field\":\"close\"}},\"id\":\"1658\",\"type\":\"Line\"},{\"attributes\":{\"bottom_units\":\"screen\",\"coordinates\":null,\"fill_alpha\":0.5,\"fill_color\":\"lightgrey\",\"group\":null,\"left_units\":\"screen\",\"level\":\"overlay\",\"line_alpha\":1.0,\"line_color\":\"black\",\"line_dash\":[4,4],\"line_width\":2,\"right_units\":\"screen\",\"syncable\":false,\"top_units\":\"screen\"},\"id\":\"1647\",\"type\":\"BoxAnnotation\"},{\"attributes\":{\"axis\":{\"id\":\"1638\"},\"coordinates\":null,\"dimension\":1,\"grid_line_color\":null,\"group\":null,\"ticker\":null},\"id\":\"1641\",\"type\":\"Grid\"},{\"attributes\":{\"margin\":[5,5,5,5],\"name\":\"HSpacer02161\",\"sizing_mode\":\"stretch_width\"},\"id\":\"1621\",\"type\":\"Spacer\"},{\"attributes\":{\"axis_label\":\"Cumulative Returns (%)\",\"coordinates\":null,\"formatter\":{\"id\":\"1668\"},\"group\":null,\"major_label_policy\":{\"id\":\"1669\"},\"ticker\":{\"id\":\"1639\"}},\"id\":\"1638\",\"type\":\"LinearAxis\"},{\"attributes\":{\"children\":[{\"id\":\"1621\"},{\"id\":\"1625\"},{\"id\":\"1714\"}],\"margin\":[0,0,0,0],\"name\":\"Row02157\",\"tags\":[\"embedded\"]},\"id\":\"1620\",\"type\":\"Row\"},{\"attributes\":{\"mantissas\":[1,2,5],\"max_interval\":500.0,\"num_minor_ticks\":0},\"id\":\"1680\",\"type\":\"AdaptiveTicker\"},{\"attributes\":{\"axis\":{\"id\":\"1634\"},\"coordinates\":null,\"grid_line_color\":null,\"group\":null,\"ticker\":null},\"id\":\"1637\",\"type\":\"Grid\"},{\"attributes\":{\"base\":60,\"mantissas\":[1,2,5,10,15,20,30],\"max_interval\":1800000.0,\"min_interval\":1000.0,\"num_minor_ticks\":0},\"id\":\"1681\",\"type\":\"AdaptiveTicker\"},{\"attributes\":{\"months\":[0,2,4,6,8,10]},\"id\":\"1688\",\"type\":\"MonthsTicker\"},{\"attributes\":{},\"id\":\"1668\",\"type\":\"BasicTickFormatter\"},{\"attributes\":{\"num_minor_ticks\":5,\"tickers\":[{\"id\":\"1680\"},{\"id\":\"1681\"},{\"id\":\"1682\"},{\"id\":\"1683\"},{\"id\":\"1684\"},{\"id\":\"1685\"},{\"id\":\"1686\"},{\"id\":\"1687\"},{\"id\":\"1688\"},{\"id\":\"1689\"},{\"id\":\"1690\"},{\"id\":\"1691\"}]},\"id\":\"1635\",\"type\":\"DatetimeTicker\"},{\"attributes\":{\"margin\":[5,5,5,5],\"name\":\"HSpacer02162\",\"sizing_mode\":\"stretch_width\"},\"id\":\"1714\",\"type\":\"Spacer\"},{\"attributes\":{\"axis_label\":\"Date\",\"coordinates\":null,\"formatter\":{\"id\":\"1665\"},\"group\":null,\"major_label_policy\":{\"id\":\"1666\"},\"ticker\":{\"id\":\"1635\"}},\"id\":\"1634\",\"type\":\"DatetimeAxis\"},{\"attributes\":{\"months\":[0,4,8]},\"id\":\"1689\",\"type\":\"MonthsTicker\"},{\"attributes\":{},\"id\":\"1669\",\"type\":\"AllLabels\"},{\"attributes\":{\"line_alpha\":0.2,\"line_color\":\"#30a2da\",\"line_width\":2,\"x\":{\"field\":\"t\"},\"y\":{\"field\":\"close\"}},\"id\":\"1660\",\"type\":\"Line\"}],\"root_ids\":[\"1620\"]},\"title\":\"Bokeh Application\",\"version\":\"2.4.1\"}};\n",
       "    var render_items = [{\"docid\":\"92a7d7c7-6fc0-4127-94b8-96053c01d960\",\"root_ids\":[\"1620\"],\"roots\":{\"1620\":\"af3681a0-ae48-443c-9e85-8b629a88d19f\"}}];\n",
       "    root.Bokeh.embed.embed_items_notebook(docs_json, render_items);\n",
       "  }\n",
       "  if (root.Bokeh !== undefined && root.Bokeh.Panel !== undefined) {\n",
       "    embed_document(root);\n",
       "  } else {\n",
       "    var attempts = 0;\n",
       "    var timer = setInterval(function(root) {\n",
       "      if (root.Bokeh !== undefined && root.Bokeh.Panel !== undefined) {\n",
       "        clearInterval(timer);\n",
       "        embed_document(root);\n",
       "      } else if (document.readyState == \"complete\") {\n",
       "        attempts++;\n",
       "        if (attempts > 200) {\n",
       "          clearInterval(timer);\n",
       "          console.log(\"Bokeh: ERROR: Unable to run BokehJS code because BokehJS library is missing\");\n",
       "        }\n",
       "      }\n",
       "    }, 25, root)\n",
       "  }\n",
       "})(window);</script>"
      ],
      "text/plain": [
       ":Curve   [t]   (close)"
      ]
     },
     "execution_count": 24,
     "metadata": {
      "application/vnd.holoviews_exec.v0+json": {
       "id": "1620"
      }
     },
     "output_type": "execute_result"
    }
   ],
   "source": [
    "# Plot the cumulative returns\n",
    "cumulative_returns_pct.hvplot(\n",
    "    title='Cumulative Returns',\n",
    "    xlabel='Date',\n",
    "    ylabel='Cumulative Returns (%)'\n",
    ")"
   ]
  },
  {
   "cell_type": "code",
   "execution_count": 25,
   "id": "15262ef8-42d6-487a-8de8-50c8031a8448",
   "metadata": {},
   "outputs": [
    {
     "data": {
      "text/plain": [
       "0.040681551522490714"
      ]
     },
     "execution_count": 25,
     "metadata": {},
     "output_type": "execute_result"
    }
   ],
   "source": [
    "# Calculate the standard deviation\n",
    "standard_deviation = daily_returns.std()\n",
    "standard_deviation\n"
   ]
  },
  {
   "cell_type": "code",
   "execution_count": 26,
   "id": "b3362f3d-3d50-4801-bad4-fdb2a9f3a7bc",
   "metadata": {},
   "outputs": [
    {
     "data": {
      "text/plain": [
       "0.7772199505359658"
      ]
     },
     "execution_count": 26,
     "metadata": {},
     "output_type": "execute_result"
    }
   ],
   "source": [
    "# Calculate the annualized standard deviation\n",
    "annualized_standard_deviation = standard_deviation * np.sqrt(365)\n",
    "annualized_standard_deviation"
   ]
  },
  {
   "cell_type": "code",
   "execution_count": 27,
   "id": "4fda4ddb-411d-49a7-b452-7e24a355abe4",
   "metadata": {},
   "outputs": [],
   "source": [
    "# Could plot std and annualized std if we want. For now just using to calculate other metrics."
   ]
  },
  {
   "cell_type": "code",
   "execution_count": 28,
   "id": "608155e4-b6bb-4a8d-ac52-541724b33c48",
   "metadata": {},
   "outputs": [
    {
     "data": {
      "text/plain": [
       "1.3377621036712464"
      ]
     },
     "execution_count": 28,
     "metadata": {},
     "output_type": "execute_result"
    }
   ],
   "source": [
    "# Sharpe Ratio\n",
    "\n",
    "# Calculate average annual return (crypto trades everyday of the year)\n",
    "average_annual_return = daily_returns.mean() * 365\n",
    "average_annual_return"
   ]
  },
  {
   "cell_type": "code",
   "execution_count": 29,
   "id": "eac69b68-a118-4219-b961-a2d6e4f70fcd",
   "metadata": {},
   "outputs": [
    {
     "data": {
      "text/plain": [
       "count    729.000000\n",
       "mean       0.003665\n",
       "std        0.040682\n",
       "min       -0.388124\n",
       "25%       -0.015914\n",
       "50%        0.002288\n",
       "75%        0.021536\n",
       "max        0.194811\n",
       "Name: close, dtype: float64"
      ]
     },
     "execution_count": 29,
     "metadata": {},
     "output_type": "execute_result"
    }
   ],
   "source": [
    "daily_returns.describe()"
   ]
  },
  {
   "cell_type": "code",
   "execution_count": 30,
   "id": "63470441-b1fd-451e-9b2a-768ddf2d0bf4",
   "metadata": {},
   "outputs": [
    {
     "data": {
      "text/plain": [
       "1.7212143135913256"
      ]
     },
     "execution_count": 30,
     "metadata": {},
     "output_type": "execute_result"
    }
   ],
   "source": [
    "sharpe_ratio = average_annual_return / annualized_standard_deviation\n",
    "sharpe_ratio"
   ]
  },
  {
   "cell_type": "code",
   "execution_count": 31,
   "id": "e88b0293-b823-4780-9535-86c3616952dd",
   "metadata": {},
   "outputs": [],
   "source": [
    "# Could plot Sharpe Ratio if we want to visualize comparisons of different coins"
   ]
  },
  {
   "cell_type": "code",
   "execution_count": 32,
   "id": "df6aff6b-d3ce-42c7-9a4f-80f571024945",
   "metadata": {},
   "outputs": [
    {
     "data": {
      "text/plain": [
       "<AxesSubplot:title={'center':'BTC Probability Distribution'}, ylabel='Frequency'>"
      ]
     },
     "execution_count": 32,
     "metadata": {},
     "output_type": "execute_result"
    },
    {
     "data": {
      "image/png": "[encoded data removed]",
      "text/plain": [
       "<Figure size 432x288 with 1 Axes>"
      ]
     },
     "metadata": {
      "needs_background": "light"
     },
     "output_type": "display_data"
    }
   ],
   "source": [
    "# Could visualize probability distributions, it would look like this\n",
    "symbol = 'BTC' # Adjust to input the user selected coin\n",
    "\n",
    "\n",
    "daily_returns.plot.hist(title=f'{symbol} Probability Distribution')"
   ]
  },
  {
   "cell_type": "code",
   "execution_count": 33,
   "id": "a9108a76-8fd3-4071-a04e-31f628ffa070",
   "metadata": {},
   "outputs": [
    {
     "data": {
      "text/plain": [
       "<AxesSubplot:title={'center':'BTC Density Plot'}, ylabel='Density'>"
      ]
     },
     "execution_count": 33,
     "metadata": {},
     "output_type": "execute_result"
    },
    {
     "data": {
      "image/png": "[encoded data removed]",
      "text/plain": [
       "<Figure size 432x288 with 1 Axes>"
      ]
     },
     "metadata": {
      "needs_background": "light"
     },
     "output_type": "display_data"
    }
   ],
   "source": [
    "# If we want to incorporate a density plot. \n",
    "# We can decide how many visualizations/analysis we want to include. \n",
    "\n",
    "daily_returns.plot.density(title=f'{symbol} Density Plot')\n"
   ]
  },
  {
   "cell_type": "code",
   "execution_count": 36,
   "id": "736491bf-68bb-4e2b-a8b2-c158f3876214",
   "metadata": {},
   "outputs": [],
   "source": [
    "# mc_simulation is a different package than we used in class.\n",
    "#from mc_simulation import MonteCarloSimulation as mcs"
   ]
  },
  {
   "cell_type": "code",
   "execution_count": null,
   "id": "04c5bcc8-9700-4708-92bd-ba7704d309d9",
   "metadata": {},
   "outputs": [],
   "source": []
  },
  {
   "cell_type": "code",
   "execution_count": 39,
   "id": "c7c375d3-4643-4411-8119-ff3aeb983886",
   "metadata": {},
   "outputs": [],
   "source": [
    "\n",
    "from MCForecastTools import MCSimulation"
   ]
  },
  {
   "cell_type": "code",
   "execution_count": 49,
   "id": "b5b15693-4287-417f-ba87-464fe3f67728",
   "metadata": {},
   "outputs": [
    {
     "ename": "TypeError",
     "evalue": "'float' object is not iterable",
     "output_type": "error",
     "traceback": [
      "\u001b[0;31m---------------------------------------------------------------------------\u001b[0m",
      "\u001b[0;31mTypeError\u001b[0m                                 Traceback (most recent call last)",
      "\u001b[0;32m/var/folders/zn/xpj654fx6_v1gqsf2kgf565h0000gn/T/ipykernel_28656/3850456831.py\u001b[0m in \u001b[0;36m<module>\u001b[0;34m\u001b[0m\n\u001b[1;32m      5\u001b[0m     \u001b[0mweights\u001b[0m \u001b[0;34m=\u001b[0m \u001b[0;36m1.0\u001b[0m\u001b[0;34m,\u001b[0m\u001b[0;34m\u001b[0m\u001b[0;34m\u001b[0m\u001b[0m\n\u001b[1;32m      6\u001b[0m     \u001b[0mnum_simulation\u001b[0m \u001b[0;34m=\u001b[0m \u001b[0;36m500\u001b[0m\u001b[0;34m,\u001b[0m\u001b[0;34m\u001b[0m\u001b[0;34m\u001b[0m\u001b[0m\n\u001b[0;32m----> 7\u001b[0;31m     \u001b[0mnum_trading_days\u001b[0m \u001b[0;34m=\u001b[0m \u001b[0;36m365\u001b[0m\u001b[0;34m*\u001b[0m\u001b[0;36m5\u001b[0m\u001b[0;34m\u001b[0m\u001b[0;34m\u001b[0m\u001b[0m\n\u001b[0m\u001b[1;32m      8\u001b[0m )\n\u001b[1;32m      9\u001b[0m \u001b[0;34m\u001b[0m\u001b[0m\n",
      "\u001b[0;32m~/Desktop/project_working_draft/analysis/jupyter_draft/MCForecastTools.py\u001b[0m in \u001b[0;36m__init__\u001b[0;34m(self, portfolio_data, weights, num_simulation, num_trading_days)\u001b[0m\n\u001b[1;32m     58\u001b[0m             \u001b[0mweights\u001b[0m \u001b[0;34m=\u001b[0m \u001b[0;34m[\u001b[0m\u001b[0;36m1.0\u001b[0m \u001b[0;34m/\u001b[0m \u001b[0mnum_stocks\u001b[0m \u001b[0;32mfor\u001b[0m \u001b[0ms\u001b[0m \u001b[0;32min\u001b[0m \u001b[0mrange\u001b[0m\u001b[0;34m(\u001b[0m\u001b[0;36m0\u001b[0m\u001b[0;34m,\u001b[0m \u001b[0mnum_stocks\u001b[0m\u001b[0;34m)\u001b[0m\u001b[0;34m]\u001b[0m\u001b[0;34m\u001b[0m\u001b[0;34m\u001b[0m\u001b[0m\n\u001b[1;32m     59\u001b[0m         \u001b[0;32melse\u001b[0m\u001b[0;34m:\u001b[0m\u001b[0;34m\u001b[0m\u001b[0;34m\u001b[0m\u001b[0m\n\u001b[0;32m---> 60\u001b[0;31m             \u001b[0;32mif\u001b[0m \u001b[0mround\u001b[0m\u001b[0;34m(\u001b[0m\u001b[0msum\u001b[0m\u001b[0;34m(\u001b[0m\u001b[0mweights\u001b[0m\u001b[0;34m)\u001b[0m\u001b[0;34m,\u001b[0m \u001b[0;36m2\u001b[0m\u001b[0;34m)\u001b[0m \u001b[0;34m<\u001b[0m \u001b[0;36m0.99\u001b[0m\u001b[0;34m:\u001b[0m\u001b[0;34m\u001b[0m\u001b[0;34m\u001b[0m\u001b[0m\n\u001b[0m\u001b[1;32m     61\u001b[0m                 \u001b[0;32mraise\u001b[0m \u001b[0mAttributeError\u001b[0m\u001b[0;34m(\u001b[0m\u001b[0;34m\"Sum of portfolio weights must equal one.\"\u001b[0m\u001b[0;34m)\u001b[0m\u001b[0;34m\u001b[0m\u001b[0;34m\u001b[0m\u001b[0m\n\u001b[1;32m     62\u001b[0m \u001b[0;34m\u001b[0m\u001b[0m\n",
      "\u001b[0;31mTypeError\u001b[0m: 'float' object is not iterable"
     ]
    }
   ],
   "source": [
    "# Monte Carlo Projections\n",
    "    #using 'btc' as a placeholder. We want this to be dataframe of whatever coin user selects.\n",
    "MC_fiveyear = MCSimulation(\n",
    "    portfolio_data = btc,\n",
    "    weights = 1.0,\n",
    "    num_simulation = 500,\n",
    "    num_trading_days = 365*5\n",
    ")\n",
    "    \n"
   ]
  },
  {
   "cell_type": "code",
   "execution_count": null,
   "id": "f7faa93b-e4e5-4a8c-a778-869f7de8f8ea",
   "metadata": {},
   "outputs": [],
   "source": []
  }
 ],
 "metadata": {
  "kernelspec": {
   "display_name": "dev2",
   "language": "python",
   "name": "dev2"
  },
  "language_info": {
   "codemirror_mode": {
    "name": "ipython",
    "version": 3
   },
   "file_extension": ".py",
   "mimetype": "text/x-python",
   "name": "python",
   "nbconvert_exporter": "python",
   "pygments_lexer": "ipython3",
   "version": "3.7.11"
  }
 },
 "nbformat": 4,
 "nbformat_minor": 5
}
