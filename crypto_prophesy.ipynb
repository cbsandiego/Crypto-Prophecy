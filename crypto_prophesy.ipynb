{
 "cells": [
  {
   "cell_type": "markdown",
   "id": "8f949257-f8d0-42a4-8a53-3521f30af07f",
   "metadata": {},
   "source": [
    "Rough breakdown of tasks - Look up available cryptocurrency API - stevie\n",
    "\n",
    "test"
   ]
  },
  {
   "cell_type": "code",
   "execution_count": null,
   "id": "69ca5047-1183-41f0-9237-858596c8ae85",
   "metadata": {},
   "outputs": [],
   "source": [
    "# import libraries and dependencies (get a bonus)"
   ]
  },
  {
   "cell_type": "code",
   "execution_count": null,
   "id": "e132f8c0-a6d0-4eb5-82fa-8c63d5234b7c",
   "metadata": {},
   "outputs": [],
   "source": [
    "# Collect data.  APIs (1 for now), binance (https://github.com/binance/binance-spot-api-docs/blob/master/rest-api.md)"
   ]
  },
  {
   "cell_type": "code",
   "execution_count": null,
   "id": "fdf5ce0c-5790-47be-a390-31488f29b722",
   "metadata": {},
   "outputs": [],
   "source": [
    "# Confirm Pandas imported data"
   ]
  },
  {
   "cell_type": "code",
   "execution_count": null,
   "id": "efe336bf-e449-40af-ac5e-6b0c773b6806",
   "metadata": {},
   "outputs": [],
   "source": [
    "# Closing prices (3 years)"
   ]
  },
  {
   "cell_type": "code",
   "execution_count": null,
   "id": "05e46108-a7bf-4098-a3bc-5e0e60b9a397",
   "metadata": {},
   "outputs": [],
   "source": [
    "# pct.change"
   ]
  },
  {
   "cell_type": "code",
   "execution_count": null,
   "id": "64f46723-3e5d-4d01-9c14-bb6d764604b1",
   "metadata": {},
   "outputs": [],
   "source": [
    "# daily_returns"
   ]
  },
  {
   "cell_type": "code",
   "execution_count": null,
   "id": "7342417d-139f-4119-bab8-66ca0b5f2087",
   "metadata": {},
   "outputs": [],
   "source": [
    "# standard deviation (Analyze risk)"
   ]
  },
  {
   "cell_type": "code",
   "execution_count": null,
   "id": "0f111c89-6490-49b0-b0be-c2ac2736ce73",
   "metadata": {},
   "outputs": [],
   "source": [
    "# Sharpe ratio"
   ]
  },
  {
   "cell_type": "code",
   "execution_count": null,
   "id": "448068d2-52df-49ed-83c5-337c493d5d8e",
   "metadata": {},
   "outputs": [],
   "source": [
    "# variance, beta, covariance"
   ]
  },
  {
   "cell_type": "code",
   "execution_count": null,
   "id": "3084acc3-bbf9-486b-8f22-09d2487d2cca",
   "metadata": {},
   "outputs": [],
   "source": [
    "# 180 day rolling of bitcoin"
   ]
  },
  {
   "cell_type": "code",
   "execution_count": null,
   "id": "ac504ffa-f4b2-4cce-867b-f1929f872cf8",
   "metadata": {},
   "outputs": [],
   "source": [
    "# Plot data (line if just 1, multiple then box)"
   ]
  },
  {
   "cell_type": "code",
   "execution_count": null,
   "id": "28e4ec03-a5ba-4391-bc5c-bec98f248c6c",
   "metadata": {},
   "outputs": [],
   "source": [
    "# Monte carlo - predictive modules"
   ]
  },
  {
   "cell_type": "code",
   "execution_count": null,
   "id": "48ec62e4-343a-43c2-987a-696317fb35f4",
   "metadata": {},
   "outputs": [],
   "source": [
    "# mc forecast"
   ]
  },
  {
   "cell_type": "code",
   "execution_count": null,
   "id": "1c29b86e-38cc-4e9e-8bcf-619845838b8a",
   "metadata": {},
   "outputs": [],
   "source": [
    "# User chooses to view between 3 cryptocurrencies"
   ]
  },
  {
   "cell_type": "code",
   "execution_count": null,
   "id": "becb1cf6-33e8-417c-b7b8-70d676177add",
   "metadata": {},
   "outputs": [],
   "source": [
    "# Save to file"
   ]
  },
  {
   "cell_type": "code",
   "execution_count": null,
   "id": "acd0c80c-79b4-4e01-8a95-79e95bc55727",
   "metadata": {},
   "outputs": [],
   "source": [
    "# Web application - Voila"
   ]
  }
 ],
 "metadata": {
  "kernelspec": {
   "display_name": "Python 3",
   "language": "python",
   "name": "python3"
  },
  "language_info": {
   "codemirror_mode": {
    "name": "ipython",
    "version": 3
   },
   "file_extension": ".py",
   "mimetype": "text/x-python",
   "name": "python",
   "nbconvert_exporter": "python",
   "pygments_lexer": "ipython3",
   "version": "3.7.10"
  },
  "widgets": {
   "application/vnd.jupyter.widget-state+json": {
    "state": {},
    "version_major": 2,
    "version_minor": 0
   }
  }
 },
 "nbformat": 4,
 "nbformat_minor": 5
}
